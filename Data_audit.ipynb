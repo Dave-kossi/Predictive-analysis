{
 "cells": [
  {
   "cell_type": "markdown",
   "id": "9b7d6454-5e2a-48bc-84c4-658a4b43f21a",
   "metadata": {},
   "source": [
    "# Data-Quality-audit and  cleaning mini-pipeline"
   ]
  },
  {
   "cell_type": "markdown",
   "id": "8923b521-1fcb-43b7-a25a-952dbba563aa",
   "metadata": {},
   "source": [
    "# Les importants packages a installer"
   ]
  },
  {
   "cell_type": "code",
   "execution_count": 1,
   "id": "e46415c2-c6a5-46fa-81e0-ff5e6ba305c0",
   "metadata": {},
   "outputs": [
    {
     "data": {
      "text/html": [
       "\n",
       "            <div>\n",
       "                <ins><a href=\"https://ydata.ai/register\">Upgrade to ydata-sdk</a></ins>\n",
       "                <p>\n",
       "                    Improve your data and profiling with ydata-sdk, featuring data quality scoring, redundancy detection, outlier identification, text validation, and synthetic data generation.\n",
       "                </p>\n",
       "            </div>\n",
       "            "
      ],
      "text/plain": [
       "<IPython.core.display.HTML object>"
      ]
     },
     "metadata": {},
     "output_type": "display_data"
    }
   ],
   "source": [
    "import pandas as pd\n",
    "from ydata_profiling import ProfileReport\n",
    "import os\n",
    "import webbrowser"
   ]
  },
  {
   "cell_type": "markdown",
   "id": "b7cb1232-83a5-43de-9077-8cd6b568af5d",
   "metadata": {},
   "source": [
    "# ===============================\n",
    "# 1. Chargement du dataset\n",
    "# ==============================="
   ]
  },
  {
   "cell_type": "code",
   "execution_count": 2,
   "id": "11139cb2-686e-4f30-94a7-66bea06bf263",
   "metadata": {},
   "outputs": [],
   "source": [
    "def charger_donnees(fichier: str) -> pd.DataFrame:\n",
    "    extension = os.path.splitext(fichier)[-1].lower()\n",
    "\n",
    "    if extension == \".csv\":\n",
    "        return pd.read_csv(fichier)\n",
    "    elif extension in [\".xls\", \".xlsx\"]:\n",
    "        return pd.read_excel(fichier)\n",
    "    elif extension == \".json\":\n",
    "        return pd.read_json(fichier)\n",
    "    elif extension == \".parquet\":\n",
    "        return pd.read_parquet(fichier)\n",
    "    elif extension == \".txt\":\n",
    "        return pd.read_csv(fichier, delimiter=\"\\t\")\n",
    "    else:\n",
    "        raise ValueError(f\"Extension de fichier non supportée : {extension}\")"
   ]
  },
  {
   "cell_type": "markdown",
   "id": "77a6d56d-5bcf-4d95-8f08-70f361a797ef",
   "metadata": {},
   "source": [
    "# ===============================\n",
    "# 2. Nettoyage automatique\n",
    "# ==============================="
   ]
  },
  {
   "cell_type": "code",
   "execution_count": 3,
   "id": "9a7cb716-47d8-449a-addf-0c70ba06c354",
   "metadata": {},
   "outputs": [],
   "source": [
    "def nettoyer_donnees(df: pd.DataFrame) -> pd.DataFrame:\n",
    "    # Supprimer les doublons\n",
    "    df = df.drop_duplicates()\n",
    "\n",
    "    # Nettoyer les noms de colonnes\n",
    "    df.columns = (\n",
    "        df.columns\n",
    "        .str.strip()\n",
    "        .str.lower()\n",
    "        .str.replace(\" \", \"_\")\n",
    "        .str.replace(\"-\", \"_\")\n",
    "    )\n",
    "\n",
    "    # Conversion automatique des types (numériques / dates si possible)\n",
    "    for col in df.columns:\n",
    "        try:\n",
    "            df[col] = pd.to_numeric(df[col])\n",
    "        except:\n",
    "            try:\n",
    "                df[col] = pd.to_datetime(df[col])\n",
    "            except:\n",
    "                pass  # garder tel quel si conversion impossible\n",
    "\n",
    "    # Gestion des valeurs manquantes :\n",
    "    for col in df.columns:\n",
    "        if df[col].isnull().sum() > 0:\n",
    "            if pd.api.types.is_numeric_dtype(df[col]):\n",
    "                df[col].fillna(df[col].median(), inplace=True)\n",
    "            else:\n",
    "                df[col].fillna(\"inconnu\", inplace=True)\n",
    "\n",
    "    return df"
   ]
  },
  {
   "cell_type": "markdown",
   "id": "8556a241-c2c6-4318-982a-b07fa74709f5",
   "metadata": {},
   "source": [
    "# ===============================\n",
    "# 3. Sauvegarde du dataset nettoyé\n",
    "# ==============================="
   ]
  },
  {
   "cell_type": "code",
   "execution_count": 4,
   "id": "0054410a-20ae-4c7a-b3a4-5d51990bdaa6",
   "metadata": {},
   "outputs": [],
   "source": [
    "def sauvegarder_donnees(df: pd.DataFrame, fichier_entree: str) -> str:\n",
    "    extension = os.path.splitext(fichier_entree)[-1].lower()\n",
    "    sortie = \"donnees_nettoyees\" + extension\n",
    "\n",
    "    if extension == \".csv\":\n",
    "        df.to_csv(sortie, index=False)\n",
    "    elif extension in [\".xls\", \".xlsx\"]:\n",
    "        df.to_excel(sortie, index=False)\n",
    "    elif extension == \".json\":\n",
    "        df.to_json(sortie, orient=\"records\", force_ascii=False)\n",
    "    elif extension == \".parquet\":\n",
    "        df.to_parquet(sortie, index=False)\n",
    "    elif extension == \".txt\":\n",
    "        df.to_csv(sortie, index=False, sep=\"\\t\")\n",
    "    else:\n",
    "        raise ValueError(f\"Extension de fichier non supportée : {extension}\")\n",
    "\n",
    "    return sortie"
   ]
  },
  {
   "cell_type": "markdown",
   "id": "33c8db91-a6d5-4ea7-8fcb-b04c31bdce83",
   "metadata": {},
   "source": [
    "# =============================\n",
    "\n",
    "# 4. Programme principal\n",
    "    \n",
    "# ==============================="
   ]
  },
  {
   "cell_type": "code",
   "execution_count": 5,
   "id": "65e4fcdb-684e-4b38-891c-af6b1972208c",
   "metadata": {},
   "outputs": [
    {
     "name": "stdin",
     "output_type": "stream",
     "text": [
      "👉 Entrez le chemin de votre fichier :  insurance.csv \n",
      "👉 Préfixe des rapports [rapport] :  insurance audit \n"
     ]
    },
    {
     "name": "stdout",
     "output_type": "stream",
     "text": [
      "✅ Dataset chargé : 1338 lignes, 7 colonnes\n"
     ]
    },
    {
     "data": {
      "application/vnd.jupyter.widget-view+json": {
       "model_id": "6a013f34dbb745a8b7c8f9376be5b2ff",
       "version_major": 2,
       "version_minor": 0
      },
      "text/plain": [
       "Summarize dataset:   0%|          | 0/5 [00:00<?, ?it/s]"
      ]
     },
     "metadata": {},
     "output_type": "display_data"
    },
    {
     "name": "stderr",
     "output_type": "stream",
     "text": [
      "\n",
      "100%|██████████| 7/7 [00:00<00:00, 44485.04it/s]\n"
     ]
    },
    {
     "data": {
      "application/vnd.jupyter.widget-view+json": {
       "model_id": "84cacded737349058c0ed30b45356d3c",
       "version_major": 2,
       "version_minor": 0
      },
      "text/plain": [
       "Generate report structure:   0%|          | 0/1 [00:00<?, ?it/s]"
      ]
     },
     "metadata": {},
     "output_type": "display_data"
    },
    {
     "data": {
      "application/vnd.jupyter.widget-view+json": {
       "model_id": "d7d79a97ef4f4c05ad28e56f9ae50fc7",
       "version_major": 2,
       "version_minor": 0
      },
      "text/plain": [
       "Render HTML:   0%|          | 0/1 [00:00<?, ?it/s]"
      ]
     },
     "metadata": {},
     "output_type": "display_data"
    },
    {
     "data": {
      "application/vnd.jupyter.widget-view+json": {
       "model_id": "ce546a6add4c4fca9d33166e5800dfbe",
       "version_major": 2,
       "version_minor": 0
      },
      "text/plain": [
       "Export report to file:   0%|          | 0/1 [00:00<?, ?it/s]"
      ]
     },
     "metadata": {},
     "output_type": "display_data"
    },
    {
     "name": "stdout",
     "output_type": "stream",
     "text": [
      "📊 Rapport AVANT nettoyage généré : insurance audit_avant.html\n",
      "🧹 Données nettoyées : 1337 lignes, 7 colonnes\n",
      "💾 Données nettoyées sauvegardées dans : donnees_nettoyees.csv\n"
     ]
    },
    {
     "name": "stderr",
     "output_type": "stream",
     "text": [
      "/tmp/ipykernel_23891/2349276961.py:17: SettingWithCopyWarning: \n",
      "A value is trying to be set on a copy of a slice from a DataFrame.\n",
      "Try using .loc[row_indexer,col_indexer] = value instead\n",
      "\n",
      "See the caveats in the documentation: https://pandas.pydata.org/pandas-docs/stable/user_guide/indexing.html#returning-a-view-versus-a-copy\n",
      "  df[col] = pd.to_numeric(df[col])\n",
      "/tmp/ipykernel_23891/2349276961.py:20: UserWarning: Could not infer format, so each element will be parsed individually, falling back to `dateutil`. To ensure parsing is consistent and as-expected, please specify a format.\n",
      "  df[col] = pd.to_datetime(df[col])\n",
      "/tmp/ipykernel_23891/2349276961.py:17: SettingWithCopyWarning: \n",
      "A value is trying to be set on a copy of a slice from a DataFrame.\n",
      "Try using .loc[row_indexer,col_indexer] = value instead\n",
      "\n",
      "See the caveats in the documentation: https://pandas.pydata.org/pandas-docs/stable/user_guide/indexing.html#returning-a-view-versus-a-copy\n",
      "  df[col] = pd.to_numeric(df[col])\n",
      "/tmp/ipykernel_23891/2349276961.py:20: UserWarning: Could not infer format, so each element will be parsed individually, falling back to `dateutil`. To ensure parsing is consistent and as-expected, please specify a format.\n",
      "  df[col] = pd.to_datetime(df[col])\n",
      "/tmp/ipykernel_23891/2349276961.py:20: UserWarning: Could not infer format, so each element will be parsed individually, falling back to `dateutil`. To ensure parsing is consistent and as-expected, please specify a format.\n",
      "  df[col] = pd.to_datetime(df[col])\n",
      "/tmp/ipykernel_23891/2349276961.py:17: SettingWithCopyWarning: \n",
      "A value is trying to be set on a copy of a slice from a DataFrame.\n",
      "Try using .loc[row_indexer,col_indexer] = value instead\n",
      "\n",
      "See the caveats in the documentation: https://pandas.pydata.org/pandas-docs/stable/user_guide/indexing.html#returning-a-view-versus-a-copy\n",
      "  df[col] = pd.to_numeric(df[col])\n",
      "/home/kossi/.config/jupyterlab-desktop/jlab_server/lib/python3.12/site-packages/ydata_profiling/utils/dataframe.py:137: SettingWithCopyWarning: \n",
      "A value is trying to be set on a copy of a slice from a DataFrame\n",
      "\n",
      "See the caveats in the documentation: https://pandas.pydata.org/pandas-docs/stable/user_guide/indexing.html#returning-a-view-versus-a-copy\n",
      "  df.rename(columns={\"index\": \"df_index\"}, inplace=True)\n"
     ]
    },
    {
     "data": {
      "application/vnd.jupyter.widget-view+json": {
       "model_id": "8ff8a7e033d7444ebc0de3767af2ece0",
       "version_major": 2,
       "version_minor": 0
      },
      "text/plain": [
       "Summarize dataset:   0%|          | 0/5 [00:00<?, ?it/s]"
      ]
     },
     "metadata": {},
     "output_type": "display_data"
    },
    {
     "name": "stderr",
     "output_type": "stream",
     "text": [
      "\n",
      "100%|██████████| 7/7 [00:00<00:00, 1317.72it/s]\n"
     ]
    },
    {
     "data": {
      "application/vnd.jupyter.widget-view+json": {
       "model_id": "ea1cf77cea0e4bd7b5441c3ea99fa7ff",
       "version_major": 2,
       "version_minor": 0
      },
      "text/plain": [
       "Generate report structure:   0%|          | 0/1 [00:00<?, ?it/s]"
      ]
     },
     "metadata": {},
     "output_type": "display_data"
    },
    {
     "data": {
      "application/vnd.jupyter.widget-view+json": {
       "model_id": "6a1945cc0b774c268a0114dd00604c22",
       "version_major": 2,
       "version_minor": 0
      },
      "text/plain": [
       "Render HTML:   0%|          | 0/1 [00:00<?, ?it/s]"
      ]
     },
     "metadata": {},
     "output_type": "display_data"
    },
    {
     "data": {
      "application/vnd.jupyter.widget-view+json": {
       "model_id": "371579c4630a4297a515baddf3fdf79c",
       "version_major": 2,
       "version_minor": 0
      },
      "text/plain": [
       "Export report to file:   0%|          | 0/1 [00:00<?, ?it/s]"
      ]
     },
     "metadata": {},
     "output_type": "display_data"
    },
    {
     "name": "stdout",
     "output_type": "stream",
     "text": [
      "📊 Rapport APRES nettoyage généré : insurance audit_apres.html\n"
     ]
    }
   ],
   "source": [
    "\n",
    "\n",
    "def main():\n",
    "    fichier = input(\"👉 Entrez le chemin de votre fichier : \").strip()\n",
    "    fichier = os.path.abspath(fichier)\n",
    "\n",
    "    base_sortie = input(\"👉 Préfixe des rapports [rapport] : \").strip() or \"rapport\"\n",
    "\n",
    "    try:\n",
    "        if not os.path.exists(fichier):\n",
    "            raise FileNotFoundError(f\"Le fichier {fichier} n'existe pas.\")\n",
    "\n",
    "        # Étape 1 : Chargement\n",
    "        df = charger_donnees(fichier)\n",
    "        if df.empty:\n",
    "            raise ValueError(\"Le fichier est vide.\")\n",
    "        print(f\"✅ Dataset chargé : {df.shape[0]} lignes, {df.shape[1]} colonnes\")\n",
    "\n",
    "        # Étape 2 : Audit AVANT nettoyage\n",
    "        rapport_avant = f\"{base_sortie}_avant.html\"\n",
    "        profile_avant = ProfileReport(df, title=\"Audit AVANT Nettoyage\", explorative=True, minimal=False)\n",
    "        profile_avant.to_file(rapport_avant)\n",
    "        print(f\"📊 Rapport AVANT nettoyage généré : {rapport_avant}\")\n",
    "\n",
    "        # Étape 3 : Nettoyage\n",
    "        df_clean = nettoyer_donnees(df)\n",
    "        print(f\"🧹 Données nettoyées : {df_clean.shape[0]} lignes, {df_clean.shape[1]} colonnes\")\n",
    "\n",
    "        # Étape 4 : Sauvegarde du dataset propre\n",
    "        fichier_nettoye = sauvegarder_donnees(df_clean, fichier)\n",
    "        print(f\"💾 Données nettoyées sauvegardées dans : {fichier_nettoye}\")\n",
    "\n",
    "        # Étape 5 : Audit APRES nettoyage\n",
    "        rapport_apres = f\"{base_sortie}_apres.html\"\n",
    "        profile_apres = ProfileReport(df_clean, title=\"Audit APRES Nettoyage\", explorative=True, minimal=False)\n",
    "        profile_apres.to_file(rapport_apres)\n",
    "        print(f\"📊 Rapport APRES nettoyage généré : {rapport_apres}\")\n",
    "\n",
    "        # Étape 6 : Ouvrir les rapports automatiquement\n",
    "        webbrowser.open(rapport_avant)\n",
    "        webbrowser.open(rapport_apres)\n",
    "\n",
    "    except Exception as e:\n",
    "        print(f\"❌ Erreur : {e}\")\n",
    "\n",
    "\n",
    "if __name__ == \"__main__\":\n",
    "    main()"
   ]
  },
  {
   "cell_type": "code",
   "execution_count": null,
   "id": "d6c76afe-a3d6-41e3-a475-5ece4a12b7e8",
   "metadata": {},
   "outputs": [],
   "source": []
  }
 ],
 "metadata": {
  "kernelspec": {
   "display_name": "Python 3 (ipykernel)",
   "language": "python",
   "name": "python3"
  },
  "language_info": {
   "codemirror_mode": {
    "name": "ipython",
    "version": 3
   },
   "file_extension": ".py",
   "mimetype": "text/x-python",
   "name": "python",
   "nbconvert_exporter": "python",
   "pygments_lexer": "ipython3",
   "version": "3.12.5"
  },
  "widgets": {
   "application/vnd.jupyter.widget-state+json": {
    "state": {},
    "version_major": 2,
    "version_minor": 0
   }
  }
 },
 "nbformat": 4,
 "nbformat_minor": 5
}
